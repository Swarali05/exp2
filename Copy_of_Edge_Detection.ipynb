{
  "nbformat": 4,
  "nbformat_minor": 0,
  "metadata": {
    "colab": {
      "provenance": [],
      "include_colab_link": true
    },
    "kernelspec": {
      "name": "python3",
      "display_name": "Python 3"
    }
  },
  "cells": [
    {
      "cell_type": "markdown",
      "metadata": {
        "id": "view-in-github",
        "colab_type": "text"
      },
      "source": [
        "<a href=\"https://colab.research.google.com/github/Swarali05/exp2/blob/main/Copy_of_Edge_Detection.ipynb\" target=\"_parent\"><img src=\"https://colab.research.google.com/assets/colab-badge.svg\" alt=\"Open In Colab\"/></a>"
      ]
    },
    {
      "cell_type": "markdown",
      "metadata": {
        "id": "LWabhEUyQ_RV"
      },
      "source": [
        "# Edge Detection using OpenCV"
      ]
    },
    {
      "cell_type": "code",
      "metadata": {
        "id": "C0lhz3nOD9WU"
      },
      "source": [
        "import cv2\n",
        "from matplotlib import pyplot as plt\n",
        "import numpy as np\n",
        "\n",
        "import requests\n",
        "url = \"https://cdn.pixabay.com/photo/2017/05/17/12/42/tiger-2320819_960_720.jpg\"\n",
        "r = requests.get(url)\n",
        "with open('test.jpg', 'wb') as f:\n",
        "    f.write(r.content)"
      ],
      "execution_count": null,
      "outputs": []
    },
    {
      "cell_type": "code",
      "metadata": {
        "id": "0bqNpl4TJOAz"
      },
      "source": [
        "img = cv2.imread('test.jpg')\n",
        "gray = cv2.cvtColor(img, cv2.COLOR_BGR2GRAY)\n",
        "img = cv2.GaussianBlur(gray,(3,3),0)"
      ],
      "execution_count": null,
      "outputs": []
    },
    {
      "cell_type": "markdown",
      "metadata": {
        "id": "MQNgSNRJISNN"
      },
      "source": [
        "## Sobel Edge Detection\n",
        "\n",
        "It finds the largest increase in intensity from light to dark and emphasises on those pixels giving an edge enhanced image.\n",
        "\n",
        "Syntax: dst = cv2.Sobel(src, ddepth, dx, dy, ksize)\n",
        "Where, ddepth is the depth of the destination image, dx is Horizontal sobel derivative, dy is vertical sobel derivative and ksize is the kernel size."
      ]
    },
    {
      "cell_type": "code",
      "metadata": {
        "id": "muI754tgKM1F"
      },
      "source": [
        "sobelx = cv2.Sobel(src=img, ddepth=cv2.CV_64F, dx=1, dy=0, ksize=5)\n",
        "\n",
        "sobely = cv2.Sobel(src=img, ddepth=cv2.CV_64F, dx=0, dy=1, ksize=5)\n",
        "\n",
        "sobelxy = cv2.Sobel(src=img, ddepth=cv2.CV_64F, dx=1, dy=1, ksize=5)\n",
        "\n",
        "plt.figure(figsize=(18,19))\n",
        "plt.subplot(221)\n",
        "plt.imshow(img, cmap='gray')\n",
        "plt.title('Original')\n",
        "plt.axis(\"off\")\n",
        "\n",
        "plt.subplot(222)\n",
        "plt.imshow(sobelxy, cmap='gray')\n",
        "plt.title('Sobel X Y')\n",
        "plt.axis(\"off\")\n",
        "\n",
        "plt.subplot(223)\n",
        "plt.imshow(sobelx, cmap='gray')\n",
        "plt.title('Sobel X')\n",
        "plt.axis(\"off\")\n",
        "\n",
        "plt.subplot(224)\n",
        "plt.imshow(sobely, cmap='gray')\n",
        "plt.title('Sobel Y')\n",
        "plt.axis(\"off\")"
      ],
      "execution_count": null,
      "outputs": []
    },
    {
      "cell_type": "markdown",
      "metadata": {
        "id": "G2_1YCT3Q5d8"
      },
      "source": [
        "## Canny Edge Detection\n",
        "\n",
        "It is a multi-stage edge detection algorithm. It's use is simplified in OpenCV. The cv2.Canny() method is ued to perform canny edge detection.\n",
        "\n",
        "Syntax: dest = cv2.canny(src, threshold1, threshold2)\n",
        "Where, threshold1 is the the High threshold value of intensity gradient and threshold2 is the low threshold value of the intensity gradient."
      ]
    },
    {
      "cell_type": "code",
      "metadata": {
        "id": "aVZjj7haD4dY",
        "colab": {
          "base_uri": "https://localhost:8080/",
          "height": 245
        },
        "outputId": "b7837ce8-e117-40e2-cd12-458706b5d166"
      },
      "source": [
        "edges = cv2.Canny(image=img, threshold1=100, threshold2=200)\n",
        "\n",
        "plt.figure(figsize=(18,19))\n",
        "plt.subplot(121)\n",
        "plt.imshow(img, cmap='gray')\n",
        "plt.title('Original')\n",
        "plt.axis(\"off\")\n",
        "\n",
        "plt.subplot(122)\n",
        "plt.imshow(edges, cmap='gray')\n",
        "plt.title('Edge image')\n",
        "plt.axis(\"off\")"
      ],
      "execution_count": null,
      "outputs": [
        {
          "output_type": "error",
          "ename": "NameError",
          "evalue": "ignored",
          "traceback": [
            "\u001b[0;31m---------------------------------------------------------------------------\u001b[0m",
            "\u001b[0;31mNameError\u001b[0m                                 Traceback (most recent call last)",
            "\u001b[0;32m<ipython-input-2-7b5afa69a06b>\u001b[0m in \u001b[0;36m<cell line: 1>\u001b[0;34m()\u001b[0m\n\u001b[0;32m----> 1\u001b[0;31m \u001b[0medges\u001b[0m \u001b[0;34m=\u001b[0m \u001b[0mcv2\u001b[0m\u001b[0;34m.\u001b[0m\u001b[0mCanny\u001b[0m\u001b[0;34m(\u001b[0m\u001b[0mimage\u001b[0m\u001b[0;34m=\u001b[0m\u001b[0mimg\u001b[0m\u001b[0;34m,\u001b[0m \u001b[0mthreshold1\u001b[0m\u001b[0;34m=\u001b[0m\u001b[0;36m100\u001b[0m\u001b[0;34m,\u001b[0m \u001b[0mthreshold2\u001b[0m\u001b[0;34m=\u001b[0m\u001b[0;36m200\u001b[0m\u001b[0;34m)\u001b[0m\u001b[0;34m\u001b[0m\u001b[0;34m\u001b[0m\u001b[0m\n\u001b[0m\u001b[1;32m      2\u001b[0m \u001b[0;34m\u001b[0m\u001b[0m\n\u001b[1;32m      3\u001b[0m \u001b[0mplt\u001b[0m\u001b[0;34m.\u001b[0m\u001b[0mfigure\u001b[0m\u001b[0;34m(\u001b[0m\u001b[0mfigsize\u001b[0m\u001b[0;34m=\u001b[0m\u001b[0;34m(\u001b[0m\u001b[0;36m18\u001b[0m\u001b[0;34m,\u001b[0m\u001b[0;36m19\u001b[0m\u001b[0;34m)\u001b[0m\u001b[0;34m)\u001b[0m\u001b[0;34m\u001b[0m\u001b[0;34m\u001b[0m\u001b[0m\n\u001b[1;32m      4\u001b[0m \u001b[0mplt\u001b[0m\u001b[0;34m.\u001b[0m\u001b[0msubplot\u001b[0m\u001b[0;34m(\u001b[0m\u001b[0;36m121\u001b[0m\u001b[0;34m)\u001b[0m\u001b[0;34m\u001b[0m\u001b[0;34m\u001b[0m\u001b[0m\n\u001b[1;32m      5\u001b[0m \u001b[0mplt\u001b[0m\u001b[0;34m.\u001b[0m\u001b[0mimshow\u001b[0m\u001b[0;34m(\u001b[0m\u001b[0mimg\u001b[0m\u001b[0;34m,\u001b[0m \u001b[0mcmap\u001b[0m\u001b[0;34m=\u001b[0m\u001b[0;34m'gray'\u001b[0m\u001b[0;34m)\u001b[0m\u001b[0;34m\u001b[0m\u001b[0;34m\u001b[0m\u001b[0m\n",
            "\u001b[0;31mNameError\u001b[0m: name 'cv2' is not defined"
          ]
        }
      ]
    }
  ]
}